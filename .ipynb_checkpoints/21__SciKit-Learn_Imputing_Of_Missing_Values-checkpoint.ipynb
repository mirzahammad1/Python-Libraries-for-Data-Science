{
 "cells": [
  {
   "cell_type": "code",
   "execution_count": 1,
   "id": "54243174",
   "metadata": {},
   "outputs": [],
   "source": [
    "# Algorithms cannot process missing values. Imputer infer the value of missing data from existing data.\n",
    "import numpy as np\n",
    "import pandas as pd\n",
    "import matplotlib.pyplot as plt\n",
    "import scipy as sc"
   ]
  },
  {
   "cell_type": "code",
   "execution_count": 3,
   "id": "3eb34242",
   "metadata": {},
   "outputs": [
    {
     "name": "stdout",
     "output_type": "stream",
     "text": [
      "[[2. 2.]\n",
      " [6. 5.]\n",
      " [7. 6.]]\n"
     ]
    }
   ],
   "source": [
    "from sklearn.impute import SimpleImputer\n",
    "imp_values = SimpleImputer(missing_values = np.nan, strategy='mean')\n",
    "imp_values.fit([[3,5],[np.nan,7],[1,3]])\n",
    "X = [[np.nan,2],[6,np.nan],[7,6]]\n",
    "print(imp_values.transform(X))"
   ]
  },
  {
   "cell_type": "code",
   "execution_count": null,
   "id": "e8732390",
   "metadata": {},
   "outputs": [],
   "source": []
  }
 ],
 "metadata": {
  "kernelspec": {
   "display_name": "Python 3 (ipykernel)",
   "language": "python",
   "name": "python3"
  },
  "language_info": {
   "codemirror_mode": {
    "name": "ipython",
    "version": 3
   },
   "file_extension": ".py",
   "mimetype": "text/x-python",
   "name": "python",
   "nbconvert_exporter": "python",
   "pygments_lexer": "ipython3",
   "version": "3.11.3"
  }
 },
 "nbformat": 4,
 "nbformat_minor": 5
}
