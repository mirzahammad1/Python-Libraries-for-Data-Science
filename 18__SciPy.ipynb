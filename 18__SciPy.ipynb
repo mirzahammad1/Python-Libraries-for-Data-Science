{
 "cells": [
  {
   "cell_type": "code",
   "execution_count": 1,
   "id": "8bf4523f",
   "metadata": {},
   "outputs": [],
   "source": [
    "#import the package linalg from the SciPy library and use the solve method to solve the provided linear equations to find the\n",
    "#value of x and y"
   ]
  },
  {
   "cell_type": "code",
   "execution_count": 5,
   "id": "3ec54fa9",
   "metadata": {},
   "outputs": [],
   "source": [
    "# import required libraries\n",
    "import numpy as np\n",
    "from scipy import linalg"
   ]
  },
  {
   "cell_type": "code",
   "execution_count": 6,
   "id": "495880c9",
   "metadata": {},
   "outputs": [],
   "source": [
    "# Test has 30 question and worth 150 marks\n",
    "# True and False questions worth 4 points\n",
    "# Multiple choice questions worth 9 points\n",
    "\n",
    "# Let X is the number of True/False questions\n",
    "# Let Y is the number of MCQS\n",
    "\n",
    "# (X+Y=30)\n",
    "# (4X+9Y=150)\n",
    "testQuestionVariable = np.array([[1,1],[4,9]])\n",
    "testQuestionValue = np.array([30,150])"
   ]
  },
  {
   "cell_type": "code",
   "execution_count": 7,
   "id": "40efa0c3",
   "metadata": {},
   "outputs": [
    {
     "data": {
      "text/plain": [
       "array([24.,  6.])"
      ]
     },
     "execution_count": 7,
     "metadata": {},
     "output_type": "execute_result"
    }
   ],
   "source": [
    "# Use linalg function of SciPy\n",
    "# Use solve method to solve the linear equation and find value for X and Y\n",
    "linalg.solve(testQuestionVariable,testQuestionValue)"
   ]
  },
  {
   "cell_type": "code",
   "execution_count": null,
   "id": "3eb262f6",
   "metadata": {},
   "outputs": [],
   "source": [
    "# value of X is 24 and value of Y is 6"
   ]
  }
 ],
 "metadata": {
  "kernelspec": {
   "display_name": "Python 3 (ipykernel)",
   "language": "python",
   "name": "python3"
  },
  "language_info": {
   "codemirror_mode": {
    "name": "ipython",
    "version": 3
   },
   "file_extension": ".py",
   "mimetype": "text/x-python",
   "name": "python",
   "nbconvert_exporter": "python",
   "pygments_lexer": "ipython3",
   "version": "3.11.3"
  }
 },
 "nbformat": 4,
 "nbformat_minor": 5
}
